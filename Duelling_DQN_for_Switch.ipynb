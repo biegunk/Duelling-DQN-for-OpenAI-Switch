{
  "nbformat": 4,
  "nbformat_minor": 0,
  "metadata": {
    "colab": {
      "name": "Duelling DQN for Switch.ipynb",
      "provenance": [],
      "collapsed_sections": [],
      "authorship_tag": "ABX9TyOlzb/bdPZASxTh6GQ9iQ9o",
      "include_colab_link": true
    },
    "kernelspec": {
      "name": "python3",
      "display_name": "Python 3"
    },
    "language_info": {
      "name": "python"
    }
  },
  "cells": [
    {
      "cell_type": "markdown",
      "metadata": {
        "id": "view-in-github",
        "colab_type": "text"
      },
      "source": [
        "<a href=\"https://colab.research.google.com/github/biegunk/Duelling-DQN-for-ma-gym-Switch/blob/main/Duelling_DQN_for_Switch.ipynb\" target=\"_parent\"><img src=\"https://colab.research.google.com/assets/colab-badge.svg\" alt=\"Open In Colab\"/></a>"
      ]
    },
    {
      "cell_type": "markdown",
      "metadata": {
        "id": "nDL3G30jSdrZ"
      },
      "source": [
        "# Set-Up and Installation"
      ]
    },
    {
      "cell_type": "code",
      "metadata": {
        "id": "_T-UbXW0PqJF",
        "colab": {
          "base_uri": "https://localhost:8080/"
        },
        "outputId": "aa777fdf-5b31-4a97-f435-40fc195d25eb"
      },
      "source": [
        "!rm -rf /content/ma-gym  \n",
        "!git clone https://github.com/koulanurag/ma-gym.git \n",
        "%cd /content/ma-gym \n",
        "!pip install -q -e . \n",
        "!apt-get install -y xvfb python-opengl x11-utils > /dev/null 2>&1\n",
        "!pip install pyvirtualdisplay > /dev/null 2>&1\n",
        "!apt-get install x11-utils\n",
        "!apt-get update > /dev/null 2>&1\n",
        "!apt-get install cmake > /dev/null 2>&1\n",
        "!pip install --upgrade setuptools 2>&1\n",
        "!pip install ez_setup > /dev/null 2>&1\n",
        "# !pip install -U gym[atari] > /dev/null 2>&1\n",
        "!pip install gym[atari] > /dev/null 2>&1"
      ],
      "execution_count": 1,
      "outputs": [
        {
          "output_type": "stream",
          "text": [
            "Cloning into 'ma-gym'...\n",
            "remote: Enumerating objects: 1414, done.\u001b[K\n",
            "remote: Counting objects: 100% (483/483), done.\u001b[K\n",
            "remote: Compressing objects: 100% (321/321), done.\u001b[K\n",
            "remote: Total 1414 (delta 239), reused 375 (delta 156), pack-reused 931\u001b[K\n",
            "Receiving objects: 100% (1414/1414), 4.00 MiB | 17.41 MiB/s, done.\n",
            "Resolving deltas: 100% (702/702), done.\n",
            "/content/ma-gym\n",
            "Reading package lists... Done\n",
            "Building dependency tree       \n",
            "Reading state information... Done\n",
            "x11-utils is already the newest version (7.7+3build1).\n",
            "0 upgraded, 0 newly installed, 0 to remove and 82 not upgraded.\n",
            "Requirement already satisfied: setuptools in /usr/local/lib/python3.7/dist-packages (57.4.0)\n"
          ],
          "name": "stdout"
        }
      ]
    },
    {
      "cell_type": "markdown",
      "metadata": {
        "id": "knH4iTdUSoqO"
      },
      "source": [
        "# Imports"
      ]
    },
    {
      "cell_type": "code",
      "metadata": {
        "id": "JVmWJvGaP7cQ"
      },
      "source": [
        "%matplotlib inline\n",
        "import gym\n",
        "import ma_gym\n",
        "import matplotlib.pyplot as plt\n",
        "import torch\n",
        "from torch import nn, optim\n",
        "from torch.nn import functional as F\n",
        "import numpy as np\n",
        "from collections import namedtuple\n",
        "import time\n",
        "import warnings\n",
        "import random"
      ],
      "execution_count": 2,
      "outputs": []
    },
    {
      "cell_type": "markdown",
      "metadata": {
        "id": "dwwsrWTqSss_"
      },
      "source": [
        "# Helpers"
      ]
    },
    {
      "cell_type": "code",
      "metadata": {
        "id": "Rs1fGbxhQFBx"
      },
      "source": [
        "warnings.filterwarnings(\"ignore\")\n",
        "\n",
        "\n",
        "Transition = namedtuple('Transition',\n",
        "                        ('state', 'action', 'reward', 'next_state', 'done'))\n",
        "\n",
        "\n",
        "def argmax(array):\n",
        "    \"\"\"Returns the maximal element, breaking ties randomly.\"\"\"\n",
        "    return np.random.choice(np.flatnonzero(array == array.max()))\n",
        "\n",
        "\n",
        "def is_gpu():\n",
        "    return torch.device(\"cuda\" if torch.cuda.is_available() else \"cpu\")\n",
        "\n",
        "\n",
        "class ReplayMemory(object):\n",
        "\n",
        "    def __init__(self, capacity):\n",
        "        self.capacity = capacity\n",
        "        self.memory = []\n",
        "        self.position = 0\n",
        "\n",
        "    def push(self, *args):\n",
        "        \"\"\"Stores transition in experience buffer.\"\"\"\n",
        "        if len(self.memory) < self.capacity:\n",
        "            self.memory.append(None)\n",
        "        self.memory[self.position] = Transition(*args)\n",
        "\n",
        "        # overwrite old experience if capacity is reached\n",
        "        self.position = (self.position + 1) % self.capacity\n",
        "\n",
        "    def sample(self, batch_size):\n",
        "        \"\"\"Returns a random sample of experience.\"\"\"\n",
        "        return random.sample(self.memory, batch_size)\n",
        "\n",
        "    def __len__(self):\n",
        "        return len(self.memory)"
      ],
      "execution_count": 3,
      "outputs": []
    },
    {
      "cell_type": "code",
      "metadata": {
        "id": "jHqGj350S7hm"
      },
      "source": [
        "def train_agents(agents, env, num_eps=1000, test_every=50):\n",
        "    \"\"\"Trains the DQN agents to play Switch.\"\"\"\n",
        "\n",
        "    start_time = time.time()\n",
        "\n",
        "    # initialise list to store rewards\n",
        "    ep_rewards = []\n",
        "    test_rewards = []\n",
        "\n",
        "    # ensure agents are exploring\n",
        "    for agent in agents:\n",
        "        agent.explore = True\n",
        "\n",
        "    # iterate over each episode\n",
        "    for ep in range(num_eps):\n",
        "\n",
        "        # initialise the environment and state\n",
        "        ep_reward = 0\n",
        "        step = 0\n",
        "        obs = env.reset()\n",
        "        done_n = [False for _ in range(env.n_agents)]\n",
        "\n",
        "        # add step count to each agent's observation\n",
        "        [x.append(step / 50) for x in obs]\n",
        "        \n",
        "        # loop until episode termination\n",
        "        while not all(done_n):\n",
        "\n",
        "            # get actions\n",
        "            actions = [agent.get_action(obs[i]) for i, agent in enumerate(agents)]\n",
        "\n",
        "            # perform actions\n",
        "            obs_new, rewards, done_n, _ = env.step(actions)\n",
        "\n",
        "            # update step count\n",
        "            step += 1\n",
        "\n",
        "            # append new step count to new observation\n",
        "            [x.append(step / 50) for x in obs_new]\n",
        "\n",
        "            # calculate joint reward\n",
        "            joint_reward = sum(rewards)\n",
        "            ep_reward += joint_reward\n",
        "\n",
        "            # each agent takes a step\n",
        "            for i, agent in enumerate(agents):\n",
        "                agent.train(obs[i], actions[i], joint_reward, obs_new[i], done_n[i])\n",
        "\n",
        "            # move to the next state\n",
        "            obs = obs_new\n",
        "\n",
        "        # update the target network every target_update episodes\n",
        "        if ep % target_update == 0:\n",
        "            for agent in agents:\n",
        "                agent._update_target_net()\n",
        "        \n",
        "        # save reward for this episode\n",
        "        ep_rewards.append(ep_reward)\n",
        "\n",
        "        # log results and test agents\n",
        "        if ep % test_every == 0:\n",
        "            current_time = time.time()\n",
        "\n",
        "            print(f'Ep: {ep} / '\n",
        "                f'(Last {test_every:,.0f}) Mean: {np.mean(ep_rewards[-test_every:]):.1f} / '\n",
        "                f'Min: {np.min(ep_rewards[-test_every:]):.1f} / '\n",
        "                f'Max: {np.max(ep_rewards[-test_every:]):.1f} / '\n",
        "                f'Time/Ep: {ep / (current_time - start_time):.1f}'\n",
        "                )\n",
        "            \n",
        "            test_rewards.append(test_agents(agents, env))\n",
        "            # ensure agents are exploring after test episode complete\n",
        "            for agent in agents:\n",
        "                agent.explore = True\n",
        "\n",
        "    # perform final log and test at end of training\n",
        "    current_time = time.time()\n",
        "\n",
        "    print(f'Ep: {ep} / '\n",
        "        f'(Last {test_every:,.0f}) Mean: {np.mean(ep_rewards[-test_every:]):.1f} / '\n",
        "        f'Min: {np.min(ep_rewards[-test_every:]):.1f} / '\n",
        "        f'Max: {np.max(ep_rewards[-test_every:]):.1f} / '\n",
        "        f'Time/Ep: {ep / (current_time - start_time):.1f}'\n",
        "        )\n",
        "            \n",
        "    test_rewards.append(test_agents(agents, env))\n",
        "            \n",
        "    return ep_rewards, test_rewards\n",
        "\n",
        "\n",
        "def test_agents(agents, env):\n",
        "    \"\"\"Performs a single test episode for the trained agents.\"\"\"\n",
        "\n",
        "    # ensure agents are not exploring\n",
        "    for agent in agents:\n",
        "        agent.explore = False\n",
        "\n",
        "    done_n = [False for _ in range(env.n_agents)]\n",
        "    obs = env.reset()\n",
        "\n",
        "    ep_reward = 0\n",
        "    step = 0\n",
        "\n",
        "    # loop until episode termination\n",
        "    while not all(done_n):\n",
        "\n",
        "        # add step count to agent observation\n",
        "        [x.append(step / 50) for x in obs]\n",
        "\n",
        "        # get actions\n",
        "        actions = [agent.get_action(obs[i]) for i, agent in enumerate(agents)]\n",
        "\n",
        "        # perform actions\n",
        "        obs, rewards, done_n, _ = env.step(actions)\n",
        "\n",
        "        # save reward\n",
        "        ep_reward += sum(rewards)\n",
        "\n",
        "        # increment step count\n",
        "        step += 1\n",
        "\n",
        "    print(f'Test Reward: {ep_reward:.1f}')\n",
        "    return ep_reward"
      ],
      "execution_count": 11,
      "outputs": []
    },
    {
      "cell_type": "markdown",
      "metadata": {
        "id": "OXzwruPoSzW1"
      },
      "source": [
        "# DQN"
      ]
    },
    {
      "cell_type": "code",
      "metadata": {
        "id": "GtDBbCN8SbNK"
      },
      "source": [
        "class DuellingDQN(nn.Module):\n",
        "\n",
        "    def __init__(self):\n",
        "        super(DuellingDQN, self).__init__()\n",
        "        self.linear1 = nn.Linear(3, 128)\n",
        "        self.linear2 = nn.Linear(128, 64)\n",
        "        self.linear_val = nn.Linear(64, 1)\n",
        "        self.linear_adv = nn.Linear(64, 5)\n",
        "        \n",
        "    def forward(self, x):\n",
        "        x = F.relu(self.linear1(x))\n",
        "        x = F.relu(self.linear2(x))\n",
        "        val = self.linear_val(x)\n",
        "        adv = self.linear_adv(x)\n",
        "        adv_bar = torch.mean(adv, dim=1, keepdim=True)\n",
        "        Q = val + adv - adv_bar\n",
        "        return Q\n",
        "\n",
        "\n",
        "class Agent(object):\n",
        "\n",
        "    def __init__(self, \n",
        "                 batch_size=64, \n",
        "                 memory_capacity=1000, \n",
        "                 epsilon_start=0.99, \n",
        "                 epsilon_end=0.01, \n",
        "                 epsilon_decay_horizon=3000, \n",
        "                 gamma=0.9, \n",
        "                 learning_rate=0.0005,\n",
        "                 target_update=500):\n",
        "\n",
        "        self.device = is_gpu()\n",
        "        self.q_network = DuellingDQN().to(self.device)\n",
        "        self.q_target = DuellingDQN().to(self.device)\n",
        "        self.memory = ReplayMemory(memory_capacity)\n",
        "        self.optimizer = optim.Adam(params=self.q_network.parameters(), lr=learning_rate)\n",
        "\n",
        "        self.epsilon = epsilon_start\n",
        "        self.eps_start = epsilon_start\n",
        "        self.eps_end = epsilon_end\n",
        "        self.eps_decay_horizon = epsilon_decay_horizon\n",
        "\n",
        "        self.gamma = gamma\n",
        "        self.batch_size = batch_size\n",
        "        self.target_update = target_update\n",
        "        self.t = 0\n",
        "        self.explore = True\n",
        "\n",
        "        # set initial target network parameters to the randomly initialised policty network parameters\n",
        "        self._update_target_net()\n",
        "\n",
        "    def get_action(self, obs):\n",
        "        \"\"\"Selects action based on agent's policy.\"\"\"\n",
        "        if self.explore and np.random.uniform(0, 1) < self.epsilon:\n",
        "            return np.random.randint(0, 4)\n",
        "        else:\n",
        "            with torch.no_grad():\n",
        "                obs = torch.tensor(obs).to(self.device).unsqueeze(0)\n",
        "                Q = self.q_network(obs).cpu().detach().numpy()\n",
        "                return argmax(Q)\n",
        "\n",
        "    def _update_target_net(self):\n",
        "        \"\"\"Hard updates the parameters of the target network with the policy network parameters.\"\"\"\n",
        "        self.q_target.load_state_dict(self.q_network.state_dict())\n",
        "\n",
        "    def _update_epsilon(self):\n",
        "        \"\"\"Decays epsilon exponentially while training.\"\"\"\n",
        "        self.epsilon = self.eps_end + (self.eps_start - self.eps_end) * np.exp(-self.t / self.eps_decay_horizon)\n",
        "\n",
        "    def _save_experience(self, state, action, reward, next_state, done):\n",
        "        \"\"\"Pushes transition to memory.\"\"\"\n",
        "        state = torch.tensor(state)\n",
        "        action = torch.tensor([action])\n",
        "        reward = torch.tensor([reward])\n",
        "        next_state = torch.tensor(next_state)\n",
        "\n",
        "        self.memory.push(state, action, reward, next_state, done)\n",
        "\n",
        "    def train(self, state, action, reward, next_state, done):\n",
        "        \"\"\"Performs a single training step of the agent.\"\"\"\n",
        "\n",
        "        self._save_experience(state, action, reward, next_state, done)\n",
        "\n",
        "        # prevents training if there is not enough memory\n",
        "        if len(self.memory) < self.batch_size:\n",
        "            return\n",
        "\n",
        "        self.t += 1\n",
        "        self._update_epsilon()\n",
        "\n",
        "        # sample transitions\n",
        "        transitions = self.memory.sample(self.batch_size)\n",
        "\n",
        "        # convert transitions to batch\n",
        "        batch = Transition(*zip(*transitions))\n",
        "\n",
        "        # get data from batch\n",
        "        state_batch = torch.stack(batch.state).to(self.device) # batch_size x 3\n",
        "        next_state_batch = torch.stack(batch.next_state).to(self.device) # batch_size x 3\n",
        "        action_batch = torch.cat(batch.action).to(self.device) # batch_size\n",
        "        reward_batch = torch.cat(batch.reward).to(self.device) # batch_size\n",
        "\n",
        "        # make mask for non-terminal states\n",
        "        not_done_batch = 1 - torch.tensor(batch.done, dtype=torch.uint8).to(self.device)\n",
        "\n",
        "        # calculate Q values of this state\n",
        "        Q_this = self.q_network(state_batch)\n",
        "\n",
        "        # get values of only the actions we've taken\n",
        "        Q_this = Q_this.gather(1, action_batch.unsqueeze(1))\n",
        "\n",
        "        # calculate max Q of next state\n",
        "        Q_next = self.q_target(next_state_batch).max(1).values.detach()\n",
        "    \n",
        "        # calculate the Q-learning target values\n",
        "        target = (Q_next * self.gamma * not_done_batch) + reward_batch\n",
        "\n",
        "        # calculate loss\n",
        "        loss = F.smooth_l1_loss(Q_this, target.unsqueeze(1))\n",
        "\n",
        "        # perform a step of optimization of the model\n",
        "        self.optimizer.zero_grad()\n",
        "        loss.backward()\n",
        "        for param in self.q_network.parameters():\n",
        "            param.grad.data.clamp_(-10, 10)\n",
        "        self.optimizer.step()\n",
        "\n",
        "        if not self.t % self.target_update:\n",
        "            self._update_target_net()"
      ],
      "execution_count": 12,
      "outputs": []
    },
    {
      "cell_type": "markdown",
      "metadata": {
        "id": "TtU_W66HTG8W"
      },
      "source": [
        "# Run Experiments"
      ]
    },
    {
      "cell_type": "markdown",
      "metadata": {
        "id": "V4QEz8Ri52wt"
      },
      "source": [
        "## Switch2-v0"
      ]
    },
    {
      "cell_type": "code",
      "metadata": {
        "id": "GcCUCrioQQFU",
        "colab": {
          "base_uri": "https://localhost:8080/"
        },
        "outputId": "25622d56-ea46-4d02-adb5-186bf66e8fe8"
      },
      "source": [
        "num_agents = 2\n",
        "batch_size = 64\n",
        "target_update = 300\n",
        "num_eps = 1500\n",
        "test_every = 50\n",
        "memory_capacity = int(num_eps / 4)\n",
        "epsilon_decay_horizon = 3000\n",
        "gamma = 0.9\n",
        "v2_agents = [Agent(memory_capacity=memory_capacity, \n",
        "                   gamma=gamma, \n",
        "                   epsilon_decay_horizon=epsilon_decay_horizon, \n",
        "                   batch_size=batch_size, \n",
        "                   target_update=target_update) for _ in range(num_agents)]\n",
        "env = gym.make(\"Switch2-v0\")\n",
        "\n",
        "v2_ep_rewards, v2_test_rewards = train_agents(v2_agents, env, num_eps, test_every)"
      ],
      "execution_count": 16,
      "outputs": [
        {
          "output_type": "stream",
          "text": [
            "Ep: 0 / (Last 50) Mean: -10.0 / Min: -10.0 / Max: -10.0 / Time/Ep: 0.0\n",
            "Test Reward: -10.0\n",
            "Ep: 50 / (Last 50) Mean: -9.8 / Min: -10.0 / Max: -1.3 / Time/Ep: 4.8\n",
            "Test Reward: -10.0\n",
            "Ep: 100 / (Last 50) Mean: -3.9 / Min: -10.0 / Max: 5.3 / Time/Ep: 4.7\n",
            "Test Reward: -0.6\n",
            "Ep: 150 / (Last 50) Mean: -1.0 / Min: -3.8 / Max: -0.6 / Time/Ep: 4.6\n",
            "Test Reward: -0.6\n",
            "Ep: 200 / (Last 50) Mean: -0.7 / Min: -1.4 / Max: -0.6 / Time/Ep: 4.6\n",
            "Test Reward: -0.6\n",
            "Ep: 250 / (Last 50) Mean: -0.6 / Min: -0.9 / Max: -0.6 / Time/Ep: 4.5\n",
            "Test Reward: -0.6\n",
            "Ep: 300 / (Last 50) Mean: -0.7 / Min: -4.6 / Max: -0.6 / Time/Ep: 4.5\n",
            "Test Reward: -0.6\n",
            "Ep: 350 / (Last 50) Mean: -0.6 / Min: -0.8 / Max: -0.6 / Time/Ep: 4.5\n",
            "Test Reward: -0.6\n",
            "Ep: 400 / (Last 50) Mean: 3.2 / Min: -0.8 / Max: 8.1 / Time/Ep: 4.6\n",
            "Test Reward: 8.1\n",
            "Ep: 450 / (Last 50) Mean: 7.3 / Min: -0.6 / Max: 8.1 / Time/Ep: 4.9\n",
            "Test Reward: 8.1\n",
            "Ep: 500 / (Last 50) Mean: 7.5 / Min: -0.6 / Max: 8.1 / Time/Ep: 5.3\n",
            "Test Reward: 8.1\n",
            "Ep: 550 / (Last 50) Mean: 1.0 / Min: -10.0 / Max: 8.1 / Time/Ep: 5.3\n",
            "Test Reward: -0.6\n",
            "Ep: 600 / (Last 50) Mean: 1.2 / Min: -10.0 / Max: 8.1 / Time/Ep: 5.3\n",
            "Test Reward: 8.1\n",
            "Ep: 650 / (Last 50) Mean: 7.5 / Min: -10.0 / Max: 8.1 / Time/Ep: 5.5\n",
            "Test Reward: 8.0\n",
            "Ep: 700 / (Last 50) Mean: 7.7 / Min: -0.7 / Max: 8.1 / Time/Ep: 5.8\n",
            "Test Reward: 8.1\n",
            "Ep: 750 / (Last 50) Mean: 7.5 / Min: -10.0 / Max: 8.1 / Time/Ep: 6.0\n",
            "Test Reward: 8.1\n",
            "Ep: 800 / (Last 50) Mean: 7.9 / Min: -0.6 / Max: 8.1 / Time/Ep: 6.2\n",
            "Test Reward: 8.0\n",
            "Ep: 850 / (Last 50) Mean: 7.7 / Min: -1.5 / Max: 8.1 / Time/Ep: 6.4\n",
            "Test Reward: 8.1\n",
            "Ep: 900 / (Last 50) Mean: 7.7 / Min: -1.8 / Max: 8.1 / Time/Ep: 6.6\n",
            "Test Reward: 8.0\n",
            "Ep: 950 / (Last 50) Mean: 7.9 / Min: -0.6 / Max: 8.1 / Time/Ep: 6.8\n",
            "Test Reward: 8.1\n",
            "Ep: 1000 / (Last 50) Mean: 7.6 / Min: -10.0 / Max: 8.2 / Time/Ep: 7.0\n",
            "Test Reward: 8.1\n",
            "Ep: 1050 / (Last 50) Mean: 8.1 / Min: 7.8 / Max: 8.1 / Time/Ep: 7.2\n",
            "Test Reward: 8.1\n",
            "Ep: 1100 / (Last 50) Mean: 8.1 / Min: 7.7 / Max: 8.1 / Time/Ep: 7.3\n",
            "Test Reward: 8.0\n",
            "Ep: 1150 / (Last 50) Mean: 7.4 / Min: -10.0 / Max: 8.1 / Time/Ep: 7.5\n",
            "Test Reward: 8.1\n",
            "Ep: 1200 / (Last 50) Mean: 8.1 / Min: 7.9 / Max: 8.1 / Time/Ep: 7.6\n",
            "Test Reward: 8.1\n",
            "Ep: 1250 / (Last 50) Mean: 6.5 / Min: -1.3 / Max: 8.1 / Time/Ep: 7.7\n",
            "Test Reward: 8.1\n",
            "Ep: 1300 / (Last 50) Mean: 8.1 / Min: 8.0 / Max: 8.1 / Time/Ep: 7.9\n",
            "Test Reward: 8.1\n",
            "Ep: 1350 / (Last 50) Mean: 7.7 / Min: -10.0 / Max: 8.1 / Time/Ep: 8.0\n",
            "Test Reward: 8.1\n",
            "Ep: 1400 / (Last 50) Mean: 8.1 / Min: 7.9 / Max: 8.1 / Time/Ep: 8.1\n",
            "Test Reward: 8.1\n",
            "Ep: 1450 / (Last 50) Mean: 7.7 / Min: -10.0 / Max: 8.2 / Time/Ep: 8.3\n",
            "Test Reward: 8.1\n",
            "Ep: 1499 / (Last 50) Mean: 8.1 / Min: 7.8 / Max: 8.1 / Time/Ep: 8.4\n",
            "Test Reward: 8.1\n"
          ],
          "name": "stdout"
        }
      ]
    },
    {
      "cell_type": "code",
      "metadata": {
        "colab": {
          "base_uri": "https://localhost:8080/",
          "height": 541
        },
        "id": "bMd0ROTBseCK",
        "outputId": "fb7a737c-7df0-4909-dcfa-20fdd9a67738"
      },
      "source": [
        "def moving_average(x, w):\n",
        "    return np.convolve(x, np.ones(w), 'valid') / w\n",
        "\n",
        "degree = 25\n",
        "\n",
        "smoothed_rewards = moving_average(v2_ep_rewards, degree)\n",
        "\n",
        "plt.figure()\n",
        "plt.plot(np.arange(len(smoothed_rewards)), smoothed_rewards)\n",
        "plt.xlabel(\"Episode\")\n",
        "plt.ylabel(\"Smoothed Reward\")\n",
        "plt.yticks(np.arange(-10, 9, 2))\n",
        "plt.show()\n",
        "\n",
        "plt.figure()\n",
        "plt.plot(np.arange(len(v2_test_rewards)) * test_every, v2_test_rewards)\n",
        "plt.xlabel(\"Episode\")\n",
        "plt.ylabel(\"Test Reward\")\n",
        "plt.yticks(np.arange(-10, 9, 2))\n",
        "plt.show()"
      ],
      "execution_count": 17,
      "outputs": [
        {
          "output_type": "display_data",
          "data": {
            "image/png": "[encoded data removed]",
            "text/plain": [
              "<Figure size 432x288 with 1 Axes>"
            ]
          },
          "metadata": {
            "tags": [],
            "needs_background": "light"
          }
        },
        {
          "output_type": "display_data",
          "data": {
            "image/png": "[encoded data removed]",
            "text/plain": [
              "<Figure size 432x288 with 1 Axes>"
            ]
          },
          "metadata": {
            "tags": [],
            "needs_background": "light"
          }
        }
      ]
    },
    {
      "cell_type": "markdown",
      "metadata": {
        "id": "lqpuTHId_AC2"
      },
      "source": [
        "The model implemented to play Switch2-v0 is a variation of a duelling DQN. This is a deep Q network whose output is a state-value  𝑉  and an advantage function  𝐴 , where  𝑄(𝑠,𝑎)=𝑉(𝑠)+𝐴(𝑠,𝑎)−𝐴¯(𝑠)  where  𝐴¯  is the mean advantage function over all actions from state  𝑠 . The implementation also includes experience replay and a separate target network for calculating the Q-learning targets, updated every 5 episodes.\n",
        "\n",
        "The experience memory is a cyclical buffer, with a capacity of 500 transitions, that overwrites the least recent memory with new experience once it is full, giving a bias to more recent transitions. At each time-step, the agents each sample a minibatch of experience – here of size 64 – and perform an optimization step of the policy network based on the Huber-loss betweent the predicted Q-values and the Q-learning targets. the use of the Huber-loss helps to stabilise the training process, as it is more robust to outliers than say the mean squared loss. To further stabilise the training process we implement gradient clipping between -10 and +10, and include a low learning rate of 0.0005\n",
        "\n",
        "The exploration policy of the agents is epsilon-greedy, with an exponentially decaying epsilon from 0.99 to 0.01 over 3000 timesteps. The performance of the agents was very sensitive to the rate of epsilon decay, and we found that the agents did not learn good policies when the epsilon decay was linear or logarithmic. Exponential epsilon decay ensures that the agents explore a lot at low t, but the exploration decays very quickly such that at high t, when the agents have learned an optimal policy, they rarely deviate from these trajectories. However, a final epsilon of 0.01 still ensures some exploration at later times, so that the agents are less likely to converge to a close-to-optimal but still sub-optimal policy.\n",
        "\n",
        "We were able to achieve a final test score of 8.1 on Switch2-v0 by training the agents on the joint reward at each transition, rather than the individual rewards, and also including the current timestep of the episode in the agents' observations. Optimizing the joint behaviour of the agents coupled with the inclusion of temporal information allows the agents to learn the optimal strategy where one player must wait for the other to cross the tunnel before they can go themselves.\n",
        "\n",
        "Furthermore, the agents were able to achieve this performance when trained over 1500 episodes with a Q-learning discount factor of 0.9."
      ]
    },
    {
      "cell_type": "markdown",
      "metadata": {
        "id": "EGg8gnbK_Bv1"
      },
      "source": [
        "## Switch4-v0"
      ]
    },
    {
      "cell_type": "code",
      "metadata": {
        "colab": {
          "base_uri": "https://localhost:8080/"
        },
        "id": "WlZvNKR450tK",
        "outputId": "27ea3b9a-9dd8-4dda-f3e0-c8641bf93469"
      },
      "source": [
        "num_agents = 4\n",
        "batch_size = 128\n",
        "target_update = 300\n",
        "num_eps = 1800\n",
        "memory_capacity = int(num_eps / 4)\n",
        "epsilon_decay_horizon = 3000\n",
        "gamma = 0.9\n",
        "v4_agents = [Agent(memory_capacity=memory_capacity, \n",
        "                   gamma=gamma, \n",
        "                   epsilon_decay_horizon=epsilon_decay_horizon, \n",
        "                   batch_size=batch_size, \n",
        "                   target_update=target_update) for _ in range(num_agents)]\n",
        "env = gym.make(\"Switch4-v0\")\n",
        "\n",
        "v4_ep_rewards, v4_test_rewards = train_agents(v4_agents, env, num_eps, test_every)"
      ],
      "execution_count": 31,
      "outputs": [
        {
          "output_type": "stream",
          "text": [
            "Ep: 0 / (Last 50) Mean: -20.0 / Min: -20.0 / Max: -20.0 / Time/Ep: 0.0\n",
            "Test Reward: -20.0\n",
            "Ep: 50 / (Last 50) Mean: -15.5 / Min: -20.0 / Max: -3.5 / Time/Ep: 2.0\n",
            "Test Reward: -5.4\n",
            "Ep: 100 / (Last 50) Mean: -7.2 / Min: -20.0 / Max: 14.8 / Time/Ep: 1.9\n",
            "Test Reward: -20.0\n",
            "Ep: 150 / (Last 50) Mean: -14.5 / Min: -20.0 / Max: 5.2 / Time/Ep: 1.9\n",
            "Test Reward: -20.0\n",
            "Ep: 200 / (Last 50) Mean: -12.7 / Min: -20.0 / Max: 4.2 / Time/Ep: 1.9\n",
            "Test Reward: -10.6\n",
            "Ep: 250 / (Last 50) Mean: -7.8 / Min: -20.0 / Max: 7.2 / Time/Ep: 1.9\n",
            "Test Reward: -20.0\n",
            "Ep: 300 / (Last 50) Mean: -14.3 / Min: -20.0 / Max: -10.6 / Time/Ep: 1.9\n",
            "Test Reward: -20.0\n",
            "Ep: 350 / (Last 50) Mean: -17.2 / Min: -20.0 / Max: -12.3 / Time/Ep: 1.8\n",
            "Test Reward: -20.0\n",
            "Ep: 400 / (Last 50) Mean: -12.6 / Min: -20.0 / Max: -10.6 / Time/Ep: 1.8\n",
            "Test Reward: -10.6\n",
            "Ep: 450 / (Last 50) Mean: -9.6 / Min: -20.0 / Max: -1.6 / Time/Ep: 1.8\n",
            "Test Reward: -10.6\n",
            "Ep: 500 / (Last 50) Mean: -8.1 / Min: -20.0 / Max: 5.2 / Time/Ep: 1.8\n",
            "Test Reward: -10.7\n",
            "Ep: 550 / (Last 50) Mean: -18.8 / Min: -20.0 / Max: -3.0 / Time/Ep: 1.8\n",
            "Test Reward: -20.0\n",
            "Ep: 600 / (Last 50) Mean: -14.0 / Min: -20.0 / Max: -3.5 / Time/Ep: 1.8\n",
            "Test Reward: -10.6\n",
            "Ep: 650 / (Last 50) Mean: -9.6 / Min: -20.0 / Max: -1.4 / Time/Ep: 1.8\n",
            "Test Reward: -1.5\n",
            "Ep: 700 / (Last 50) Mean: -2.9 / Min: -20.0 / Max: 7.4 / Time/Ep: 1.8\n",
            "Test Reward: -10.6\n",
            "Ep: 750 / (Last 50) Mean: -0.4 / Min: -10.6 / Max: 7.4 / Time/Ep: 1.8\n",
            "Test Reward: 7.0\n",
            "Ep: 800 / (Last 50) Mean: 4.4 / Min: -20.0 / Max: 7.4 / Time/Ep: 1.8\n",
            "Test Reward: 7.3\n",
            "Ep: 850 / (Last 50) Mean: 5.8 / Min: -10.9 / Max: 7.4 / Time/Ep: 1.8\n",
            "Test Reward: 7.4\n",
            "Ep: 900 / (Last 50) Mean: 7.3 / Min: 7.0 / Max: 7.4 / Time/Ep: 1.8\n",
            "Test Reward: 7.4\n",
            "Ep: 950 / (Last 50) Mean: 6.8 / Min: -20.0 / Max: 7.4 / Time/Ep: 1.8\n",
            "Test Reward: 7.4\n",
            "Ep: 1000 / (Last 50) Mean: 6.1 / Min: -20.0 / Max: 7.4 / Time/Ep: 1.8\n",
            "Test Reward: 7.4\n",
            "Ep: 1050 / (Last 50) Mean: 6.8 / Min: -10.6 / Max: 7.4 / Time/Ep: 1.8\n",
            "Test Reward: 7.4\n",
            "Ep: 1100 / (Last 50) Mean: 8.4 / Min: -20.0 / Max: 15.1 / Time/Ep: 1.8\n",
            "Test Reward: 15.1\n",
            "Ep: 1150 / (Last 50) Mean: 12.4 / Min: -2.4 / Max: 16.0 / Time/Ep: 1.8\n",
            "Test Reward: 15.9\n",
            "Ep: 1200 / (Last 50) Mean: 14.5 / Min: -10.6 / Max: 16.0 / Time/Ep: 1.9\n",
            "Test Reward: 16.0\n",
            "Ep: 1250 / (Last 50) Mean: 12.8 / Min: -20.0 / Max: 16.0 / Time/Ep: 1.9\n",
            "Test Reward: 16.0\n",
            "Ep: 1300 / (Last 50) Mean: 13.0 / Min: -20.0 / Max: 16.0 / Time/Ep: 1.9\n",
            "Test Reward: 7.4\n",
            "Ep: 1350 / (Last 50) Mean: 13.0 / Min: -20.0 / Max: 16.0 / Time/Ep: 2.0\n",
            "Test Reward: 16.0\n",
            "Ep: 1400 / (Last 50) Mean: 12.9 / Min: -20.0 / Max: 16.0 / Time/Ep: 2.0\n",
            "Test Reward: 15.9\n",
            "Ep: 1450 / (Last 50) Mean: 13.9 / Min: -20.0 / Max: 16.0 / Time/Ep: 2.0\n",
            "Test Reward: 16.0\n",
            "Ep: 1500 / (Last 50) Mean: 14.5 / Min: -10.7 / Max: 16.0 / Time/Ep: 2.1\n",
            "Test Reward: 16.0\n",
            "Ep: 1550 / (Last 50) Mean: 13.3 / Min: -20.0 / Max: 16.0 / Time/Ep: 2.1\n",
            "Test Reward: 16.0\n",
            "Ep: 1600 / (Last 50) Mean: 15.0 / Min: -20.0 / Max: 16.0 / Time/Ep: 2.2\n",
            "Test Reward: 16.0\n",
            "Ep: 1650 / (Last 50) Mean: 12.7 / Min: -20.0 / Max: 16.0 / Time/Ep: 2.2\n",
            "Test Reward: 16.0\n",
            "Ep: 1700 / (Last 50) Mean: 14.5 / Min: -20.0 / Max: 16.0 / Time/Ep: 2.2\n",
            "Test Reward: 16.0\n",
            "Ep: 1750 / (Last 50) Mean: 14.3 / Min: -20.0 / Max: 16.0 / Time/Ep: 2.3\n",
            "Test Reward: 16.0\n",
            "Ep: 1799 / (Last 50) Mean: 13.8 / Min: -20.0 / Max: 16.0 / Time/Ep: 2.3\n",
            "Test Reward: 16.0\n"
          ],
          "name": "stdout"
        }
      ]
    },
    {
      "cell_type": "code",
      "metadata": {
        "colab": {
          "base_uri": "https://localhost:8080/",
          "height": 541
        },
        "id": "w2tO3olW6Ki1",
        "outputId": "ea14be31-74cd-4a81-c135-7d5933dadf39"
      },
      "source": [
        "smoothed_rewards = moving_average(v4_ep_rewards, degree)\n",
        "\n",
        "plt.figure()\n",
        "plt.plot(np.arange(len(smoothed_rewards)), smoothed_rewards)\n",
        "plt.xlabel(\"Episode\")\n",
        "plt.ylabel(\"Smoothed Reward\")\n",
        "plt.yticks(np.arange(-20, 17, 4))\n",
        "plt.show()\n",
        "\n",
        "plt.figure()\n",
        "plt.plot(np.arange(len(v4_test_rewards)) * test_every, v4_test_rewards)\n",
        "plt.xlabel(\"Episode\")\n",
        "plt.ylabel(\"Test Reward\")\n",
        "plt.yticks(np.arange(-20, 17, 4))\n",
        "plt.show()"
      ],
      "execution_count": 32,
      "outputs": [
        {
          "output_type": "display_data",
          "data": {
            "image/png": "[encoded data removed]",
            "text/plain": [
              "<Figure size 432x288 with 1 Axes>"
            ]
          },
          "metadata": {
            "tags": [],
            "needs_background": "light"
          }
        },
        {
          "output_type": "display_data",
          "data": {
            "image/png": "[encoded data removed]",
            "text/plain": [
              "<Figure size 432x288 with 1 Axes>"
            ]
          },
          "metadata": {
            "tags": [],
            "needs_background": "light"
          }
        }
      ]
    },
    {
      "cell_type": "markdown",
      "metadata": {
        "id": "vczySK5B_Xkm"
      },
      "source": [
        "The main difficulty with transferring the duelling DQN architecture implemented for Switch2-v0 to Switch4-v0 is that with the increased number of players, the sensitivity of the performance to changes in hyperparamters is vastly increased. This is specifically noticeable when varying parameters involved in the exploration, such as intial, final and rate of decay of epsilon. Even moreso than the 2-player version, if epsilon is not decayed at the right speed, the exploration of the agents can completely skew the performance. Specifically, we found the main issue with the 4-player game was the presence of catastrophic forgetting, which was not as much of a problem with only 2 agents. Often the agents would learn the optimal policy, and then later on in the training cycle go back to impeding each other, resulting in very low test scores.\n",
        "\n",
        "Another issue that is more common in the Switch4-v0 is lazy-agent behaviour. This occurs when the joint policies are stuck in a local optima, as some of the agents are getting to their target, and thus all the agents are experiencing some reward (as we feed the agents the joint reward). If the lazy agents do not explore enough, the little exploration they do can result in impeding the other agents, which makes exploration undesirable. Therefore it is very important to get a balance of enough exploration such that the agents do not become lazy, but also that they do not forget the learned optimal policy.\n",
        "\n",
        "We found that using an increased experience replay minibatch size of 128, training for 1800 episodes and keeping the epsilon decay horizon the same at 3000 timesteps, we were able to achieve fairly stable results, and the agents scored a final test score of 16."
      ]
    }
  ]
}